{
 "cells": [
  {
   "cell_type": "code",
   "execution_count": 53,
   "metadata": {},
   "outputs": [],
   "source": [
    "import pandas as pd\n",
    "import numpy as np\n",
    "import matplotlib.pyplot as plt\n",
    "from sklearn.linear_model import LinearRegression\n",
    "import pickle # For storing trained data"
   ]
  },
  {
   "cell_type": "markdown",
   "id": "41914694",
   "metadata": {},
   "source": [
    "### Reading Ground truth CSV files"
   ]
  },
  {
   "cell_type": "markdown",
   "id": "b29b38db",
   "metadata": {},
   "source": [
    "Read index file for filenames"
   ]
  },
  {
   "cell_type": "code",
   "execution_count": null,
   "metadata": {},
   "outputs": [],
   "source": [
    "df = pd.read_csv(\"ground_truth_subjects.csv\", header = None)\n",
    "print(df) # We get a dataframe containing names of files\n",
    "\n",
    "# Output : Names of dataset folders as Dataframe"
   ]
  },
  {
   "cell_type": "markdown",
   "id": "6e4edb47",
   "metadata": {},
   "source": [
    "Make array of Folder names of Dataset"
   ]
  },
  {
   "cell_type": "code",
   "execution_count": null,
   "id": "822e2d6d",
   "metadata": {},
   "outputs": [],
   "source": [
    "subjects = df[0].values\n",
    "print(subjects)\n",
    "\n",
    "# Output : Names of dataset folders as 1D numpy array"
   ]
  },
  {
   "cell_type": "markdown",
   "id": "297c815b",
   "metadata": {},
   "source": [
    "Get list of paths to training + testing CSV files"
   ]
  },
  {
   "cell_type": "code",
   "execution_count": null,
   "id": "101294f5",
   "metadata": {},
   "outputs": [],
   "source": [
    "def get_file_paths(subjects):\n",
    "    # List that stores path to CSV training files\n",
    "    file_paths = [] # Initiated list for storing path to dataset\n",
    "    for subject in subjects:\n",
    "        # ground_truth -> subject -> peizo signals\n",
    "        piezo_path = f\"ground_truth/{subject}/{subject[10:]}.csv\"\n",
    "        # ground_truth -> subject -> breathrates\n",
    "        breath_path = f\"ground_truth/{subject}/breathrates.csv\"\n",
    "        # ground_truth -> subject -> heartrates\n",
    "        heart_path = f\"ground_truth/{subject}/heartrates.csv\"\n",
    "        # ground_truth -> subject -> jpeaks\n",
    "        jpeaks_path = f\"ground_truth/{subject}/jpeaks.csv\"\n",
    "        # ground_truth -> subject -> movementvalues\n",
    "        movment_path = f\"ground_truth/{subject}/movementvalues.csv\"\n",
    "        file_paths.append((piezo_path, breath_path, heart_path, jpeaks_path, movment_path))\n",
    "    return file_paths\n",
    "\n",
    "# Training + Testing dataset addresses stored\n",
    "file_paths = get_file_paths(subjects)\n",
    "print(file_paths)\n",
    "\n",
    "# Output : List of (tuples containing address of dataset CSVs)"
   ]
  },
  {
   "cell_type": "markdown",
   "id": "883e2cc7",
   "metadata": {},
   "source": [
    "# Visualising the data"
   ]
  },
  {
   "cell_type": "markdown",
   "id": "e7d67fb1",
   "metadata": {},
   "source": [
    "Individual plots of peizo then breathrates"
   ]
  },
  {
   "cell_type": "code",
   "execution_count": null,
   "id": "2b5f393d",
   "metadata": {},
   "outputs": [],
   "source": [
    "for (piezo_path, breath_path, heart_path, jpeaks_path, movment_path) in file_paths:\n",
    "    piezo_df = pd.read_csv(piezo_path, header = None)\n",
    "    breathrate_df = pd.read_csv(breath_path, header = None)\n",
    "    heartrate_df = pd.read_csv(heart_path, header = None)\n",
    "    jpeaks_df = pd.read_csv(jpeaks_path, header = None)\n",
    "    movment_df = pd.read_csv(movment_path, header = None)\n",
    "    \n",
    "    # Get values out of dataframes\n",
    "\n",
    "    # Peizo\n",
    "    piezo_reading = piezo_df[0].values\n",
    "    # Breathrates\n",
    "    timestamps = breathrate_df[0].values\n",
    "    breath_rate = breathrate_df[1].values\n",
    "    # Heartrates\n",
    "    heart_rate = heartrate_df[1].values\n",
    "    # jpeaks\n",
    "    j_peak = jpeaks_df[0].values\n",
    "    # movement_values\n",
    "    movment_value = movment_df[1].values\n",
    "\n",
    "    # Plot the Data\n",
    "    # 3 lines below are just to resize the graph, No need to consider\n",
    "    f = plt.figure()\n",
    "    f.set_figwidth(5)\n",
    "    f.set_figheight(5)\n",
    "    \n",
    "\n",
    "    plt.plot(piezo_reading)\n",
    "    plt.show()\n",
    "    plt.plot(timestamps, breath_rate, marker = 'o')\n",
    "    plt.show()\n",
    "    plt.plot(timestamps, heart_rate, marker = 'o')\n",
    "    plt.show()\n",
    "    plt.plot(j_peak, marker = 'o')\n",
    "    plt.show()\n",
    "    plt.plot(movment_value, marker = 'o')\n",
    "    plt.show()\n",
    "\n",
    "# All output plots in Folder : Data Plots\\Individual quantities"
   ]
  },
  {
   "cell_type": "markdown",
   "id": "39a3d390",
   "metadata": {},
   "source": [
    "### Plots for breathrate and heartrate respectively\n",
    "Note: Training data considered as 1st 4 datasets"
   ]
  },
  {
   "cell_type": "markdown",
   "id": "0e970f31",
   "metadata": {},
   "source": [
    "### 1. By averaging out the piezo_values"
   ]
  },
  {
   "cell_type": "code",
   "execution_count": 61,
   "id": "443b2def",
   "metadata": {},
   "outputs": [
    {
     "data": {
      "image/png": "[encoded data removed]",
      "text/plain": [
       "<Figure size 432x288 with 1 Axes>"
      ]
     },
     "metadata": {
      "needs_background": "light"
     },
     "output_type": "display_data"
    },
    {
     "data": {
      "image/png": "[encoded data removed]",
      "text/plain": [
       "<Figure size 432x288 with 1 Axes>"
      ]
     },
     "metadata": {
      "needs_background": "light"
     },
     "output_type": "display_data"
    }
   ],
   "source": [
    "interval = 6780\n",
    "cumu_breathrates = []\n",
    "cumu_heartrates = []\n",
    "cumu_piezo = []\n",
    "# For 1st 4 datasets\n",
    "for sub in range(4):\n",
    "    # if (sub == 1) :\n",
    "    #     continue\n",
    "    piezo_0 = pd.read_csv(file_paths[sub][0], header = None).iloc[:, 0].values # Numpy 1D array\n",
    "    breathrates = pd.read_csv(file_paths[sub][1], header = None).iloc[:, 1].values # Numpy 1D array\n",
    "    heartrates = pd.read_csv(file_paths[sub][2], header=None).iloc[:, 1].values\n",
    "    \n",
    "    cumu_breathrates += list(breathrates)\n",
    "    cumu_heartrates += list(heartrates)\n",
    "\n",
    "    x = [] # 8 membered list - Averaged out peizo\n",
    "\n",
    "    for i in range(8):\n",
    "        sum = 0\n",
    "        count = 0\n",
    "        for  j in range(interval):\n",
    "            if (piezo_0[j + interval * i]>200):\n",
    "                sum += piezo_0[j + interval * i]\n",
    "                count += 1\n",
    "\n",
    "        sum /= count\n",
    "        x += [sum]\n",
    "    \n",
    "    cumu_piezo += x\n",
    "\n",
    "\n",
    "# Just to get bigger graph\n",
    "# f = plt.figure()\n",
    "# # ----------------------RESIZE graph below-----------------------------\n",
    "# f.set_figwidth(4)\n",
    "# f.set_figheight(4)\n",
    "\n",
    "# Plot for breathrates\n",
    "plt.scatter(np.array(cumu_piezo), np.array(cumu_breathrates), color = \"blue\")\n",
    "\n",
    "m, b = np. polyfit(np.array(cumu_piezo),np.array(cumu_breathrates), 1)\n",
    "plt.plot(np.array(cumu_piezo), m*np.array(cumu_piezo) + b)\n",
    "plt.show()\n",
    "\n",
    "# Plot for heartrates\n",
    "plt.scatter(np.array(cumu_piezo), np.array(cumu_heartrates), color = \"red\")\n",
    "\n",
    "m, b = np. polyfit(np.array(cumu_piezo),np.array(cumu_heartrates), 1)\n",
    "plt.plot(np.array(cumu_piezo), m*np.array(cumu_piezo) + b)\n",
    "plt.show()\n",
    "\n",
    "# Output : Plot of breathrates (BLUE) and a regression line\n",
    "#          Plot of heartrates (RED) and its regression line "
   ]
  },
  {
   "cell_type": "markdown",
   "id": "91132840",
   "metadata": {},
   "source": [
    "Now in 2 codeblocks below are the plots excluding the error points (with value -1)"
   ]
  },
  {
   "cell_type": "code",
   "execution_count": 62,
   "id": "99276626",
   "metadata": {},
   "outputs": [
    {
     "data": {
      "image/png": "[encoded data removed]",
      "text/plain": [
       "<Figure size 288x288 with 1 Axes>"
      ]
     },
     "metadata": {
      "needs_background": "light"
     },
     "output_type": "display_data"
    }
   ],
   "source": [
    "# remove y = -1 or y is above 30\n",
    "new_piezo = []\n",
    "new_breathrates = []\n",
    "count = 0\n",
    "for elem in np.array(cumu_breathrates):\n",
    "    count +=1\n",
    "    if (elem==-1 or elem>30):\n",
    "        continue\n",
    "    new_breathrates += [elem]\n",
    "    new_piezo += [np.array(cumu_piezo)[count-1]]\n",
    "\n",
    "# print(newX)\n",
    "# print(newy)\n",
    "new_piezo = np.array(new_piezo)\n",
    "new_breathrates = np.array(new_breathrates)\n",
    "\n",
    "# Just to get bigger graph\n",
    "f = plt.figure()\n",
    "# ----------------------RESIZE graph below-----------------------------\n",
    "f.set_figwidth(4)\n",
    "f.set_figheight(4)\n",
    "\n",
    "plt.scatter(new_piezo, new_breathrates, color = \"blue\")\n",
    "\n",
    "\n",
    "m, b = np. polyfit(new_piezo,new_breathrates, 1)\n",
    "plt.plot(new_piezo, m*new_piezo+ b)\n",
    "plt.show()"
   ]
  },
  {
   "cell_type": "code",
   "execution_count": 63,
   "id": "6fbb72be",
   "metadata": {},
   "outputs": [
    {
     "data": {
      "image/png": "[encoded data removed]",
      "text/plain": [
       "<Figure size 288x288 with 1 Axes>"
      ]
     },
     "metadata": {
      "needs_background": "light"
     },
     "output_type": "display_data"
    }
   ],
   "source": [
    "# remove y = -1\n",
    "new_piezo = []\n",
    "new_breathrates = []\n",
    "new_heartrates = []\n",
    "count = 0\n",
    "for elem in np.array(cumu_heartrates):\n",
    "    count +=1\n",
    "    if (elem==-1):\n",
    "        continue\n",
    "    new_heartrates += [elem]\n",
    "    new_piezo += [np.array(cumu_piezo)[count-1]]\n",
    "\n",
    "\n",
    "\n",
    "# print(newX)\n",
    "# print(newy)\n",
    "new_piezo = np.array(new_piezo)\n",
    "new_heartrates = np.array(new_heartrates)\n",
    "\n",
    "# Just to get bigger graph\n",
    "f = plt.figure()\n",
    "# ----------------------RESIZE graph below-----------------------------\n",
    "f.set_figwidth(4)\n",
    "f.set_figheight(4)\n",
    "\n",
    "plt.scatter(new_piezo, new_heartrates, color = \"red\")\n",
    "\n",
    "\n",
    "m, b = np. polyfit(new_piezo,new_heartrates, 1)\n",
    "plt.plot(new_piezo, m*new_piezo+ b)\n",
    "plt.show()"
   ]
  },
  {
   "cell_type": "markdown",
   "id": "119826ad",
   "metadata": {},
   "source": [
    "### 2. By populating breathrates into array of 54240"
   ]
  },
  {
   "cell_type": "code",
   "execution_count": null,
   "id": "fd57635e",
   "metadata": {},
   "outputs": [],
   "source": [
    "for data_number in range(4):\n",
    "    piezo_atIndex = pd.read_csv(file_paths[data_number][0], header = None).iloc[:, 0].values # Numpy 1D array\n",
    "    breathrates = pd.read_csv(file_paths[data_number][1], header = None).iloc[:, 1].values # Numpy 1D array\n",
    "\n",
    "    interval = 6780\n",
    "    y = []\n",
    "    for breathrate in breathrates:\n",
    "        # Get normal Dist for better results\n",
    "        y += list(np.random.normal(breathrate, 4, interval))\n",
    "\n",
    "    # Just to get bigger graph\n",
    "    f = plt.figure()\n",
    "    # ----------------------RESIZE graph below-----------------------------\n",
    "    f.set_figwidth(4)\n",
    "    f.set_figheight(4)\n",
    "\n",
    "    # Plotting two values \n",
    "    plt.scatter(piezo_atIndex, np.array(y), color = \"blue\")\n",
    "    plt.show()\n",
    "\n",
    "    # All output plots in Folder : Data Plots\\piezo_vs_breathrates for 54240 points"
   ]
  },
  {
   "cell_type": "markdown",
   "id": "6b08c592",
   "metadata": {},
   "source": [
    "# Training regressor model"
   ]
  },
  {
   "cell_type": "markdown",
   "id": "9d88239a",
   "metadata": {},
   "source": [
    "For continuous data : Breathrates, Heartrates and jpeaks"
   ]
  },
  {
   "cell_type": "markdown",
   "id": "60f2cc14",
   "metadata": {},
   "source": [
    "### First try by Direct linear regression (w/o removing error points)\n",
    "(Probably wrong as we need to remove the error datapoints)"
   ]
  },
  {
   "cell_type": "code",
   "execution_count": 138,
   "id": "131da6b8",
   "metadata": {},
   "outputs": [
    {
     "ename": "AttributeError",
     "evalue": "'list' object has no attribute 'reshape'",
     "output_type": "error",
     "traceback": [
      "\u001b[1;31m---------------------------------------------------------------------------\u001b[0m",
      "\u001b[1;31mAttributeError\u001b[0m                            Traceback (most recent call last)",
      "\u001b[1;32m~\\AppData\\Local\\Temp/ipykernel_3436/2582281471.py\u001b[0m in \u001b[0;36m<module>\u001b[1;34m\u001b[0m\n\u001b[0;32m     15\u001b[0m \u001b[1;33m\u001b[0m\u001b[0m\n\u001b[0;32m     16\u001b[0m \u001b[0mregressor\u001b[0m \u001b[1;33m=\u001b[0m \u001b[0mLinearRegression\u001b[0m\u001b[1;33m(\u001b[0m\u001b[1;33m)\u001b[0m\u001b[1;33m\u001b[0m\u001b[1;33m\u001b[0m\u001b[0m\n\u001b[1;32m---> 17\u001b[1;33m \u001b[0mregressor\u001b[0m\u001b[1;33m.\u001b[0m\u001b[0mfit\u001b[0m\u001b[1;33m(\u001b[0m\u001b[0mpiezo_0\u001b[0m\u001b[1;33m.\u001b[0m\u001b[0mreshape\u001b[0m\u001b[1;33m(\u001b[0m\u001b[1;36m1\u001b[0m\u001b[1;33m,\u001b[0m \u001b[1;33m-\u001b[0m\u001b[1;36m1\u001b[0m\u001b[1;33m)\u001b[0m\u001b[1;33m,\u001b[0m \u001b[0my\u001b[0m\u001b[1;33m.\u001b[0m\u001b[0mreshape\u001b[0m\u001b[1;33m(\u001b[0m\u001b[1;36m1\u001b[0m\u001b[1;33m,\u001b[0m \u001b[1;33m-\u001b[0m\u001b[1;36m1\u001b[0m\u001b[1;33m)\u001b[0m\u001b[1;33m)\u001b[0m\u001b[1;33m\u001b[0m\u001b[1;33m\u001b[0m\u001b[0m\n\u001b[0m",
      "\u001b[1;31mAttributeError\u001b[0m: 'list' object has no attribute 'reshape'"
     ]
    }
   ],
   "source": [
    "interval = 6780 # 54240 / 8\n",
    "X = []\n",
    "y = []\n",
    "\n",
    "for (peizo_path, breath_path, heart_path, jpeaks_path, movment_path) in file_paths:\n",
    "    piezo_vals = pd.read_csv(peizo_path, header = None).iloc[:, 0:].values\n",
    "    breathrates = pd.read_csv(breath_path, header = None).iloc[:, 1:].values\n",
    "    \n",
    "    X += list(piezo_vals)\n",
    "    for breathrate in breathrates:\n",
    "        y += list(np.random.normal(breathrate, 4, interval))\n",
    "\n",
    "X = np.array(X)\n",
    "y = np.array(y)\n",
    "\n",
    "regressor = LinearRegression()\n",
    "regressor.fit(piezo_0.reshape(1, -1), y.reshape(1, -1))"
   ]
  },
  {
   "cell_type": "code",
   "execution_count": null,
   "id": "04c4694e",
   "metadata": {},
   "outputs": [
    {
     "ename": "MemoryError",
     "evalue": "Unable to allocate 21.9 GiB for an array with shape (54240, 54240) and data type float64",
     "output_type": "error",
     "traceback": [
      "\u001b[1;31m---------------------------------------------------------------------------\u001b[0m",
      "\u001b[1;31mMemoryError\u001b[0m                               Traceback (most recent call last)",
      "\u001b[1;32m~\\AppData\\Local\\Temp/ipykernel_3436/622930659.py\u001b[0m in \u001b[0;36m<module>\u001b[1;34m\u001b[0m\n\u001b[0;32m      8\u001b[0m \u001b[1;33m\u001b[0m\u001b[0m\n\u001b[0;32m      9\u001b[0m \u001b[0mregressor\u001b[0m \u001b[1;33m=\u001b[0m \u001b[0mLinearRegression\u001b[0m\u001b[1;33m(\u001b[0m\u001b[1;33m)\u001b[0m\u001b[1;33m\u001b[0m\u001b[1;33m\u001b[0m\u001b[0m\n\u001b[1;32m---> 10\u001b[1;33m \u001b[0mregressor\u001b[0m\u001b[1;33m.\u001b[0m\u001b[0mfit\u001b[0m\u001b[1;33m(\u001b[0m\u001b[0mpiezo_0\u001b[0m\u001b[1;33m,\u001b[0m \u001b[0my\u001b[0m\u001b[1;33m)\u001b[0m\u001b[1;33m\u001b[0m\u001b[1;33m\u001b[0m\u001b[0m\n\u001b[0m",
      "\u001b[1;32m~\\AppData\\Local\\Programs\\Python\\Python39\\lib\\site-packages\\sklearn\\linear_model\\_base.py\u001b[0m in \u001b[0;36mfit\u001b[1;34m(self, X, y, sample_weight)\u001b[0m\n\u001b[0;32m    716\u001b[0m                 \u001b[0mself\u001b[0m\u001b[1;33m.\u001b[0m\u001b[0m_residues\u001b[0m \u001b[1;33m=\u001b[0m \u001b[0mnp\u001b[0m\u001b[1;33m.\u001b[0m\u001b[0mvstack\u001b[0m\u001b[1;33m(\u001b[0m\u001b[1;33m[\u001b[0m\u001b[0mout\u001b[0m\u001b[1;33m[\u001b[0m\u001b[1;36m3\u001b[0m\u001b[1;33m]\u001b[0m \u001b[1;32mfor\u001b[0m \u001b[0mout\u001b[0m \u001b[1;32min\u001b[0m \u001b[0mouts\u001b[0m\u001b[1;33m]\u001b[0m\u001b[1;33m)\u001b[0m\u001b[1;33m\u001b[0m\u001b[1;33m\u001b[0m\u001b[0m\n\u001b[0;32m    717\u001b[0m         \u001b[1;32melse\u001b[0m\u001b[1;33m:\u001b[0m\u001b[1;33m\u001b[0m\u001b[1;33m\u001b[0m\u001b[0m\n\u001b[1;32m--> 718\u001b[1;33m             \u001b[0mself\u001b[0m\u001b[1;33m.\u001b[0m\u001b[0mcoef_\u001b[0m\u001b[1;33m,\u001b[0m \u001b[0mself\u001b[0m\u001b[1;33m.\u001b[0m\u001b[0m_residues\u001b[0m\u001b[1;33m,\u001b[0m \u001b[0mself\u001b[0m\u001b[1;33m.\u001b[0m\u001b[0mrank_\u001b[0m\u001b[1;33m,\u001b[0m \u001b[0mself\u001b[0m\u001b[1;33m.\u001b[0m\u001b[0msingular_\u001b[0m \u001b[1;33m=\u001b[0m \u001b[0mlinalg\u001b[0m\u001b[1;33m.\u001b[0m\u001b[0mlstsq\u001b[0m\u001b[1;33m(\u001b[0m\u001b[0mX\u001b[0m\u001b[1;33m,\u001b[0m \u001b[0my\u001b[0m\u001b[1;33m)\u001b[0m\u001b[1;33m\u001b[0m\u001b[1;33m\u001b[0m\u001b[0m\n\u001b[0m\u001b[0;32m    719\u001b[0m             \u001b[0mself\u001b[0m\u001b[1;33m.\u001b[0m\u001b[0mcoef_\u001b[0m \u001b[1;33m=\u001b[0m \u001b[0mself\u001b[0m\u001b[1;33m.\u001b[0m\u001b[0mcoef_\u001b[0m\u001b[1;33m.\u001b[0m\u001b[0mT\u001b[0m\u001b[1;33m\u001b[0m\u001b[1;33m\u001b[0m\u001b[0m\n\u001b[0;32m    720\u001b[0m \u001b[1;33m\u001b[0m\u001b[0m\n",
      "\u001b[1;32m~\\AppData\\Local\\Programs\\Python\\Python39\\lib\\site-packages\\scipy\\linalg\\basic.py\u001b[0m in \u001b[0;36mlstsq\u001b[1;34m(a, b, cond, overwrite_a, overwrite_b, check_finite, lapack_driver)\u001b[0m\n\u001b[0;32m   1179\u001b[0m         \u001b[1;31m# a larger solution matrix\u001b[0m\u001b[1;33m\u001b[0m\u001b[1;33m\u001b[0m\u001b[1;33m\u001b[0m\u001b[0m\n\u001b[0;32m   1180\u001b[0m         \u001b[1;32mif\u001b[0m \u001b[0mlen\u001b[0m\u001b[1;33m(\u001b[0m\u001b[0mb1\u001b[0m\u001b[1;33m.\u001b[0m\u001b[0mshape\u001b[0m\u001b[1;33m)\u001b[0m \u001b[1;33m==\u001b[0m \u001b[1;36m2\u001b[0m\u001b[1;33m:\u001b[0m\u001b[1;33m\u001b[0m\u001b[1;33m\u001b[0m\u001b[0m\n\u001b[1;32m-> 1181\u001b[1;33m             \u001b[0mb2\u001b[0m \u001b[1;33m=\u001b[0m \u001b[0mnp\u001b[0m\u001b[1;33m.\u001b[0m\u001b[0mzeros\u001b[0m\u001b[1;33m(\u001b[0m\u001b[1;33m(\u001b[0m\u001b[0mn\u001b[0m\u001b[1;33m,\u001b[0m \u001b[0mnrhs\u001b[0m\u001b[1;33m)\u001b[0m\u001b[1;33m,\u001b[0m \u001b[0mdtype\u001b[0m\u001b[1;33m=\u001b[0m\u001b[0mlapack_func\u001b[0m\u001b[1;33m.\u001b[0m\u001b[0mdtype\u001b[0m\u001b[1;33m)\u001b[0m\u001b[1;33m\u001b[0m\u001b[1;33m\u001b[0m\u001b[0m\n\u001b[0m\u001b[0;32m   1182\u001b[0m             \u001b[0mb2\u001b[0m\u001b[1;33m[\u001b[0m\u001b[1;33m:\u001b[0m\u001b[0mm\u001b[0m\u001b[1;33m,\u001b[0m \u001b[1;33m:\u001b[0m\u001b[1;33m]\u001b[0m \u001b[1;33m=\u001b[0m \u001b[0mb1\u001b[0m\u001b[1;33m\u001b[0m\u001b[1;33m\u001b[0m\u001b[0m\n\u001b[0;32m   1183\u001b[0m         \u001b[1;32melse\u001b[0m\u001b[1;33m:\u001b[0m\u001b[1;33m\u001b[0m\u001b[1;33m\u001b[0m\u001b[0m\n",
      "\u001b[1;31mMemoryError\u001b[0m: Unable to allocate 21.9 GiB for an array with shape (54240, 54240) and data type float64"
     ]
    }
   ],
   "source": [
    "n = (len(piezo_0) // 8)\n",
    "y = []\n",
    "for breathrate in breathrates:\n",
    "    y += list(np.random.normal(breathrate, 4, n))\n",
    "    \n",
    "y = np.array([y])\n",
    "piezo_0 = [piezo_0]\n",
    "\n",
    "regressor = LinearRegression()\n",
    "regressor.fit(piezo_0, y)"
   ]
  },
  {
   "cell_type": "markdown",
   "id": "2c0e1cab",
   "metadata": {},
   "source": [
    "### Second try by removing error points (where brethrates are -1 or greater than 30)"
   ]
  },
  {
   "cell_type": "markdown",
   "id": "791c39a0",
   "metadata": {},
   "source": [
    "# 1. Linear regression model for breathrates"
   ]
  },
  {
   "cell_type": "code",
   "execution_count": 15,
   "id": "5df9e52b",
   "metadata": {},
   "outputs": [
    {
     "data": {
      "text/plain": [
       "LinearRegression()"
      ]
     },
     "execution_count": 15,
     "metadata": {},
     "output_type": "execute_result"
    }
   ],
   "source": [
    "regressor = LinearRegression()\n",
    "regressor.fit(new_piezo.reshape(-1, 1), new_breathrates.reshape(-1, 1))"
   ]
  },
  {
   "cell_type": "code",
   "execution_count": 26,
   "id": "a13acaf3",
   "metadata": {},
   "outputs": [
    {
     "name": "stdout",
     "output_type": "stream",
     "text": [
      "[539.9085597  499.21489676 499.64292035 505.10762534 536.69989758\n",
      " 499.90412979 499.78318584 499.98436578 539.9085597  499.21489676\n",
      " 499.64292035 505.10762534 536.69989758 499.90412979 499.78318584\n",
      " 499.98436578]\n"
     ]
    }
   ],
   "source": [
    "pred_data = []\n",
    "cumu_breathrates =[]\n",
    "# For 1st 4 datasets\n",
    "for file in range(4, 6, 1):\n",
    "    # if (sub == 1) :\n",
    "    #     continue\n",
    "    piezo_0 = pd.read_csv(file_paths[sub][0], header = None).iloc[:, 0].values # Numpy 1D array\n",
    "    breathrates = pd.read_csv(file_paths[sub][1], header = None).iloc[:, 1].values # Numpy 1D array\n",
    "\n",
    "    cumu_breathrates += list(breathrates)\n",
    "    x = [] # 8 membered list - Averaged out peizo\n",
    "\n",
    "    # Average the peizo\n",
    "    for i in range(8):\n",
    "        sum = 0\n",
    "        count = 0\n",
    "        for  j in range(interval):\n",
    "            if (piezo_0[j + interval * i]>200):\n",
    "                sum += piezo_0[j + interval * i]\n",
    "                count += 1\n",
    "\n",
    "        sum /= count\n",
    "        x += [sum]\n",
    "    \n",
    "    pred_data += x\n",
    "\n",
    "pred_data = np.array(pred_data)\n",
    "actual_breathrate = np.array(cumu_breathrates)\n",
    "print(pred_data)"
   ]
  },
  {
   "cell_type": "code",
   "execution_count": 68,
   "id": "9c82c13d",
   "metadata": {},
   "outputs": [
    {
     "data": {
      "image/png": "[encoded data removed]",
      "text/plain": [
       "<Figure size 720x720 with 1 Axes>"
      ]
     },
     "metadata": {
      "needs_background": "light"
     },
     "output_type": "display_data"
    }
   ],
   "source": [
    "f = plt.figure()\n",
    "# ----------------------RESIZE graph below-----------------------------\n",
    "f.set_figwidth(10)\n",
    "f.set_figheight(10)\n",
    "\n",
    "pred_final = regressor.predict(pred_data.reshape(-1, 1))\n",
    "# print(pred_final)\n",
    "plt.scatter(pred_data.reshape(-1, 1), pred_final.reshape(-1, 1), color = \"blue\")\n",
    "plt.scatter(pred_data.reshape(-1, 1), actual_breathrate.reshape(-1, 1), color = \"red\")\n",
    "plt.show()\n",
    "\n",
    "# Output : BLUE points Predicted values of breathrates\n",
    "#          RED points Actual values of breathrates\n"
   ]
  },
  {
   "cell_type": "code",
   "execution_count": 69,
   "id": "6f9c4ccb",
   "metadata": {},
   "outputs": [
    {
     "name": "stdout",
     "output_type": "stream",
     "text": [
      "90.71199878697267\n"
     ]
    }
   ],
   "source": [
    "# Finding mean squared array\n",
    "difference_array = np.subtract(pred_final, actual_breathrate)\n",
    "squared_array = np.square(difference_array)\n",
    "mse = squared_array.mean()\n",
    "print(mse)\n",
    "\n",
    "# So large as the error points cause great difference"
   ]
  },
  {
   "cell_type": "markdown",
   "id": "a5c5c4a9",
   "metadata": {},
   "source": [
    "## 2. Linear regression model for heartrates"
   ]
  },
  {
   "cell_type": "code",
   "execution_count": 36,
   "id": "06a0a738",
   "metadata": {},
   "outputs": [
    {
     "data": {
      "text/plain": [
       "LinearRegression()"
      ]
     },
     "execution_count": 36,
     "metadata": {},
     "output_type": "execute_result"
    }
   ],
   "source": [
    "regressor_heart = LinearRegression()\n",
    "regressor_heart.fit(new_piezo.reshape(-1, 1), new_heartrates.reshape(-1, 1))"
   ]
  },
  {
   "cell_type": "markdown",
   "id": "f98b1d5f",
   "metadata": {},
   "source": [
    "Testing the model"
   ]
  },
  {
   "cell_type": "code",
   "execution_count": 39,
   "id": "61162ae6",
   "metadata": {},
   "outputs": [
    {
     "name": "stdout",
     "output_type": "stream",
     "text": [
      "[539.9085597  499.21489676 499.64292035 505.10762534 536.69989758\n",
      " 499.90412979 499.78318584 499.98436578 539.9085597  499.21489676\n",
      " 499.64292035 505.10762534 536.69989758 499.90412979 499.78318584\n",
      " 499.98436578]\n"
     ]
    }
   ],
   "source": [
    "pred_data = []\n",
    "cumu_heartrates =[]\n",
    "# For 1st 4 datasets\n",
    "for file in range(4, 6, 1):\n",
    "    # if (sub == 1) :\n",
    "    #     continue\n",
    "    piezo_0 = pd.read_csv(file_paths[sub][0], header = None).iloc[:, 0].values # Numpy 1D array\n",
    "    heartrates = pd.read_csv(file_paths[sub][2], header = None).iloc[:, 1].values # Numpy 1D array\n",
    "\n",
    "    cumu_heartrates += list(heartrates)\n",
    "    x = [] # 8 membered list - Averaged out peizo\n",
    "\n",
    "    # Average the peizo\n",
    "    for i in range(8):\n",
    "        sum = 0\n",
    "        count = 0\n",
    "        for  j in range(interval):\n",
    "            if (piezo_0[j + interval * i]>200):\n",
    "                sum += piezo_0[j + interval * i]\n",
    "                count += 1\n",
    "\n",
    "        sum /= count\n",
    "        x += [sum]\n",
    "    \n",
    "    pred_data += x\n",
    "\n",
    "pred_data = np.array(pred_data)\n",
    "actual_heartrate = np.array(cumu_heartrates)\n",
    "print(pred_data)"
   ]
  },
  {
   "cell_type": "code",
   "execution_count": 67,
   "id": "07340603",
   "metadata": {},
   "outputs": [
    {
     "data": {
      "image/png": "[encoded data removed]",
      "text/plain": [
       "<Figure size 720x720 with 1 Axes>"
      ]
     },
     "metadata": {
      "needs_background": "light"
     },
     "output_type": "display_data"
    }
   ],
   "source": [
    "f = plt.figure()\n",
    "# ----------------------RESIZE graph below-----------------------------\n",
    "f.set_figwidth(10)\n",
    "f.set_figheight(10)\n",
    "\n",
    "pred_final_heart = regressor_heart.predict(pred_data.reshape(-1, 1))\n",
    "# print(pred_final)\n",
    "plt.scatter(pred_data.reshape(-1, 1), pred_final_heart.reshape(-1, 1), color = \"blue\")\n",
    "plt.scatter(pred_data.reshape(-1, 1), actual_heartrate.reshape(-1, 1), color = \"red\")\n",
    "plt.show()\n",
    "\n",
    "# Output : BLUE points Predicted values of heartrates\n",
    "#          RED points Actual values of heartrates"
   ]
  },
  {
   "cell_type": "markdown",
   "id": "43283717",
   "metadata": {},
   "source": [
    "Using pickle to save state of the trained model"
   ]
  },
  {
   "cell_type": "code",
   "execution_count": null,
   "metadata": {},
   "outputs": [],
   "source": [
    "# Testing out if pickle works\n",
    "\n",
    "X = np.array([[7], [8], [7], [4], [2], [7], [3], [8], [5]])\n",
    "y = np.array([17, 16, 25, 67, 56, 87, 34, 54, 23])\n",
    "model = LinearRegression()\n",
    "model.fit(X, y)\n",
    "filename = 'finalized_model.sav'\n",
    "pickle.dump(model, open(filename, 'wb'))"
   ]
  },
  {
   "cell_type": "code",
   "execution_count": null,
   "metadata": {},
   "outputs": [
    {
     "data": {
      "text/plain": [
       "array([34.80555556])"
      ]
     },
     "execution_count": 36,
     "metadata": {},
     "output_type": "execute_result"
    }
   ],
   "source": [
    "saved_model = pickle.load(open(filename, 'rb'))\n",
    "saved_model.predict(np.array([[9]]))"
   ]
  },
  {
   "cell_type": "markdown",
   "id": "b24191d0",
   "metadata": {},
   "source": [
    "## Classification\n",
    "For discrete data : Movement values"
   ]
  },
  {
   "cell_type": "markdown",
   "id": "0eb9106d",
   "metadata": {},
   "source": [
    "### Visualisation"
   ]
  },
  {
   "cell_type": "code",
   "execution_count": null,
   "id": "37c4cb37",
   "metadata": {},
   "outputs": [],
   "source": [
    "for (piezo_path, breath_path, heart_path, jpeaks_path, movment_path) in file_paths:\n",
    "    piezo_df = pd.read_csv(piezo_path, header = None)\n",
    "    movment_df = pd.read_csv(movment_path, header = None)\n",
    "    \n",
    "    # Get values out of dataframes\n",
    "\n",
    "    # Peizo\n",
    "    piezo_reading = piezo_df[0].values\n",
    "    # movement_values\n",
    "    movment_value = movment_df[1].values\n",
    "\n",
    "    # Plot the Data\n",
    "    # 3 lines below are just to resize the graph, No need to consider\n",
    "    f = plt.figure()\n",
    "    f.set_figwidth(5)\n",
    "    f.set_figheight(5)\n",
    "    \n",
    "    # movemnt values array change\n",
    "    new_movment_value = []\n",
    "    for movment in movment_value:\n",
    "        new_movment_value += [movment*200+400]*226\n",
    "    new_movment_value = np.array(new_movment_value)\n",
    "\n",
    "    plt.plot(piezo_reading)\n",
    "    plt.plot(new_movment_value, marker = 'o', color =\"red\")\n",
    "    plt.show()\n",
    "\n",
    "    # All output plots in Folder : Data Plots\\peizo_and_movement_values"
   ]
  },
  {
   "cell_type": "markdown",
   "id": "ad40d9c2",
   "metadata": {},
   "source": [
    "# Training the classifier model"
   ]
  },
  {
   "cell_type": "code",
   "execution_count": null,
   "id": "ac9fd26c",
   "metadata": {},
   "outputs": [],
   "source": []
  },
  {
   "cell_type": "markdown",
   "id": "0a90fd08",
   "metadata": {},
   "source": [
    "# Optimising the models, both regressor and classifier (if possible)"
   ]
  },
  {
   "cell_type": "code",
   "execution_count": null,
   "id": "b95d9e50",
   "metadata": {},
   "outputs": [],
   "source": []
  },
  {
   "cell_type": "markdown",
   "id": "a8f23e1a",
   "metadata": {},
   "source": [
    "# Done :)"
   ]
  }
 ],
 "metadata": {
  "kernelspec": {
   "display_name": "Python 3",
   "language": "python",
   "name": "python3"
  },
  "language_info": {
   "codemirror_mode": {
    "name": "ipython",
    "version": 3
   },
   "file_extension": ".py",
   "mimetype": "text/x-python",
   "name": "python",
   "nbconvert_exporter": "python",
   "pygments_lexer": "ipython3",
   "version": "3.9.5"
  }
 },
 "nbformat": 4,
 "nbformat_minor": 5
}
